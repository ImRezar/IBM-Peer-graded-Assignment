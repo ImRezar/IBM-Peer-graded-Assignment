{
 "cells": [
  {
   "cell_type": "markdown",
   "id": "a1f00964",
   "metadata": {},
   "source": [
    "<center>\n",
    "    <img src=\"https://cf-courses-data.s3.us.cloud-object-storage.appdomain.cloud/IBMDeveloperSkillsNetwork-DS0105EN-SkillsNetwork/labs/Module2/images/SN_web_lightmode.png\" width=\"300\" alt=\"cognitiveclass.ai logo\">\n",
    "</center>\n"
   ]
  },
  {
   "cell_type": "markdown",
   "id": "3fe44c30",
   "metadata": {},
   "source": [
    "## Data Science Tools"
   ]
  },
  {
   "cell_type": "markdown",
   "id": "366cc955",
   "metadata": {},
   "source": [
    "Hello my friend, In this notebook I will summarize Data science tools"
   ]
  },
  {
   "cell_type": "markdown",
   "id": "161db631",
   "metadata": {},
   "source": [
    "Some popular data science languages:\n",
    "Python\n",
    "\n",
    "R\n",
    "\n",
    "Scala\n",
    "\n",
    "Java\n",
    "\n",
    "SQL\n",
    "\n",
    "PHP\n",
    "\n",
    "Go\n",
    "\n",
    "Ruby\n",
    "\n",
    "C++\n",
    "\n",
    "Julia"
   ]
  },
  {
   "cell_type": "markdown",
   "id": "4e9d7420",
   "metadata": {},
   "source": [
    "Some popular data scince libraries:\n",
    "\n",
    "Pandas\n",
    "\n",
    "Numpy\n",
    "\n",
    "Keras\n",
    "\n",
    "TensorFlow\n",
    "\n",
    "PyTorch\n",
    "\n",
    "Matplotlib\n",
    "\n",
    "Seaborn\n",
    "\n",
    "Scikit-learn\n",
    "\n",
    "Apache Spark\n",
    "\n",
    "Vegas\n",
    "\n",
    "Big DL\n",
    "\n",
    "Ggplot2"
   ]
  },
  {
   "cell_type": "markdown",
   "id": "69165340",
   "metadata": {},
   "source": [
    "Some popular Data Science tools:\n",
    "\n",
    "Jupyter Notebook\n",
    "\n",
    "Spyder\n",
    "\n",
    "Anacondo\n",
    "\n",
    "R studio"
   ]
  },
  {
   "cell_type": "markdown",
   "id": "eb4ccf1b",
   "metadata": {},
   "source": [
    "Some popular arithmetic expression examples:\n",
    "7 - 6 + 2 = 1 + 2 = 3. 7 - (6 + 2) = 7-8 = -1"
   ]
  },
  {
   "cell_type": "code",
   "execution_count": 2,
   "id": "e4110ec7",
   "metadata": {},
   "outputs": [
    {
     "data": {
      "text/plain": [
       "4"
      ]
     },
     "execution_count": 2,
     "metadata": {},
     "output_type": "execute_result"
    }
   ],
   "source": [
    "#Exercise 8 - a code to multiply and add numbers.\n",
    "2+2"
   ]
  },
  {
   "cell_type": "code",
   "execution_count": 6,
   "id": "26502534",
   "metadata": {},
   "outputs": [
    {
     "data": {
      "text/plain": [
       "41"
      ]
     },
     "execution_count": 6,
     "metadata": {},
     "output_type": "execute_result"
    }
   ],
   "source": [
    "(4*8)+9"
   ]
  },
  {
   "cell_type": "code",
   "execution_count": 4,
   "id": "a0b2c18c",
   "metadata": {},
   "outputs": [
    {
     "data": {
      "text/plain": [
       "185"
      ]
     },
     "execution_count": 4,
     "metadata": {},
     "output_type": "execute_result"
    }
   ],
   "source": [
    "85+100"
   ]
  },
  {
   "cell_type": "code",
   "execution_count": 5,
   "id": "45147be5",
   "metadata": {},
   "outputs": [
    {
     "data": {
      "text/plain": [
       "1008"
      ]
     },
     "execution_count": 5,
     "metadata": {},
     "output_type": "execute_result"
    }
   ],
   "source": [
    "84*12"
   ]
  },
  {
   "cell_type": "code",
   "execution_count": 9,
   "id": "d260ac78",
   "metadata": {},
   "outputs": [
    {
     "data": {
      "text/plain": [
       "13"
      ]
     },
     "execution_count": 9,
     "metadata": {},
     "output_type": "execute_result"
    }
   ],
   "source": [
    "#Exercise 9 -a code to convert minutes to hours.\n",
    "time_Based_minutes=600\n",
    "time_based_hours=800//60\n",
    "time_based_hours"
   ]
  },
  {
   "cell_type": "markdown",
   "id": "3ab0fd99",
   "metadata": {},
   "source": [
    "Objective:\n",
    "\n",
    ".Writing headers\n",
    "\n",
    ".Having clean cells\n",
    "\n",
    ".Making Markdown\n",
    "\n",
    "."
   ]
  },
  {
   "cell_type": "markdown",
   "id": "f733debd",
   "metadata": {},
   "source": [
    "# Author:\n",
    "\n",
    "Mohammadreza Ramezani"
   ]
  }
 ],
 "metadata": {
  "kernelspec": {
   "display_name": "Python 3 (ipykernel)",
   "language": "python",
   "name": "python3"
  },
  "language_info": {
   "codemirror_mode": {
    "name": "ipython",
    "version": 3
   },
   "file_extension": ".py",
   "mimetype": "text/x-python",
   "name": "python",
   "nbconvert_exporter": "python",
   "pygments_lexer": "ipython3",
   "version": "3.9.12"
  }
 },
 "nbformat": 4,
 "nbformat_minor": 5
}
